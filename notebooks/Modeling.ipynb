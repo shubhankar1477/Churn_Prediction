{
 "cells": [
  {
   "cell_type": "code",
   "execution_count": 9,
   "id": "5b48070f-1665-40ae-8e91-f6e3756c5f7d",
   "metadata": {},
   "outputs": [
    {
     "name": "stdout",
     "output_type": "stream",
     "text": [
      "The autoreload extension is already loaded. To reload it, use:\n",
      "  %reload_ext autoreload\n"
     ]
    }
   ],
   "source": [
    "import sys \n",
    "import os\n",
    "%load_ext autoreload\n",
    "sys.path.insert(0, '../../Churn_Prediction')\n",
    "from src.config import TRAINING_FILE,MODELS,MODEL_TRAINING_FILE\n",
    "from src.utility import get_spark\n",
    "\n",
    "from pyspark.ml import Pipeline\n",
    "from pyspark.ml.feature import  StringIndexer, VectorAssembler\n",
    "from pyspark.ml.evaluation import BinaryClassificationEvaluator\n",
    "from pyspark.ml.tuning import ParamGridBuilder, CrossValidator\n",
    "from pyspark.sql.functions import col, lit,when\n",
    "from pyspark.mllib.evaluation import BinaryClassificationMetrics\n",
    "from pyspark.ml.classification import LogisticRegression, RandomForestClassifier, GBTClassifier, NaiveBayes"
   ]
  },
  {
   "cell_type": "code",
   "execution_count": 8,
   "id": "df00f891-f53a-4191-8b5d-93d7fc912b0a",
   "metadata": {},
   "outputs": [
    {
     "data": {
      "text/html": [
       "<div>\n",
       "<style scoped>\n",
       "    .dataframe tbody tr th:only-of-type {\n",
       "        vertical-align: middle;\n",
       "    }\n",
       "\n",
       "    .dataframe tbody tr th {\n",
       "        vertical-align: top;\n",
       "    }\n",
       "\n",
       "    .dataframe thead th {\n",
       "        text-align: right;\n",
       "    }\n",
       "</style>\n",
       "<table border=\"1\" class=\"dataframe\">\n",
       "  <thead>\n",
       "    <tr style=\"text-align: right;\">\n",
       "      <th></th>\n",
       "      <th>customerID</th>\n",
       "      <th>gender</th>\n",
       "      <th>SeniorCitizen</th>\n",
       "      <th>Partner</th>\n",
       "      <th>Dependents</th>\n",
       "      <th>tenure</th>\n",
       "      <th>PhoneService</th>\n",
       "      <th>MultipleLines</th>\n",
       "      <th>InternetService</th>\n",
       "      <th>OnlineSecurity</th>\n",
       "      <th>OnlineBackup</th>\n",
       "      <th>DeviceProtection</th>\n",
       "      <th>TechSupport</th>\n",
       "      <th>StreamingTV</th>\n",
       "      <th>StreamingMovies</th>\n",
       "      <th>Contract</th>\n",
       "      <th>PaperlessBilling</th>\n",
       "      <th>PaymentMethod</th>\n",
       "      <th>MonthlyCharges</th>\n",
       "      <th>TotalCharges</th>\n",
       "      <th>Churn</th>\n",
       "    </tr>\n",
       "  </thead>\n",
       "  <tbody>\n",
       "    <tr>\n",
       "      <th>0</th>\n",
       "      <td>7590-VHVEG</td>\n",
       "      <td>Female</td>\n",
       "      <td>0</td>\n",
       "      <td>Yes</td>\n",
       "      <td>No</td>\n",
       "      <td>1</td>\n",
       "      <td>No</td>\n",
       "      <td>No phone service</td>\n",
       "      <td>DSL</td>\n",
       "      <td>No</td>\n",
       "      <td>Yes</td>\n",
       "      <td>No</td>\n",
       "      <td>No</td>\n",
       "      <td>No</td>\n",
       "      <td>No</td>\n",
       "      <td>Month-to-month</td>\n",
       "      <td>Yes</td>\n",
       "      <td>Electronic check</td>\n",
       "      <td>29.85</td>\n",
       "      <td>29.85</td>\n",
       "      <td>No</td>\n",
       "    </tr>\n",
       "    <tr>\n",
       "      <th>1</th>\n",
       "      <td>5575-GNVDE</td>\n",
       "      <td>Male</td>\n",
       "      <td>0</td>\n",
       "      <td>No</td>\n",
       "      <td>No</td>\n",
       "      <td>34</td>\n",
       "      <td>Yes</td>\n",
       "      <td>No</td>\n",
       "      <td>DSL</td>\n",
       "      <td>Yes</td>\n",
       "      <td>No</td>\n",
       "      <td>Yes</td>\n",
       "      <td>No</td>\n",
       "      <td>No</td>\n",
       "      <td>No</td>\n",
       "      <td>One year</td>\n",
       "      <td>No</td>\n",
       "      <td>Mailed check</td>\n",
       "      <td>56.95</td>\n",
       "      <td>1889.5</td>\n",
       "      <td>No</td>\n",
       "    </tr>\n",
       "    <tr>\n",
       "      <th>2</th>\n",
       "      <td>3668-QPYBK</td>\n",
       "      <td>Male</td>\n",
       "      <td>0</td>\n",
       "      <td>No</td>\n",
       "      <td>No</td>\n",
       "      <td>2</td>\n",
       "      <td>Yes</td>\n",
       "      <td>No</td>\n",
       "      <td>DSL</td>\n",
       "      <td>Yes</td>\n",
       "      <td>Yes</td>\n",
       "      <td>No</td>\n",
       "      <td>No</td>\n",
       "      <td>No</td>\n",
       "      <td>No</td>\n",
       "      <td>Month-to-month</td>\n",
       "      <td>Yes</td>\n",
       "      <td>Mailed check</td>\n",
       "      <td>53.85</td>\n",
       "      <td>108.15</td>\n",
       "      <td>Yes</td>\n",
       "    </tr>\n",
       "    <tr>\n",
       "      <th>3</th>\n",
       "      <td>7795-CFOCW</td>\n",
       "      <td>Male</td>\n",
       "      <td>0</td>\n",
       "      <td>No</td>\n",
       "      <td>No</td>\n",
       "      <td>45</td>\n",
       "      <td>No</td>\n",
       "      <td>No phone service</td>\n",
       "      <td>DSL</td>\n",
       "      <td>Yes</td>\n",
       "      <td>No</td>\n",
       "      <td>Yes</td>\n",
       "      <td>Yes</td>\n",
       "      <td>No</td>\n",
       "      <td>No</td>\n",
       "      <td>One year</td>\n",
       "      <td>No</td>\n",
       "      <td>Bank transfer (automatic)</td>\n",
       "      <td>42.30</td>\n",
       "      <td>1840.75</td>\n",
       "      <td>No</td>\n",
       "    </tr>\n",
       "    <tr>\n",
       "      <th>4</th>\n",
       "      <td>9237-HQITU</td>\n",
       "      <td>Female</td>\n",
       "      <td>0</td>\n",
       "      <td>No</td>\n",
       "      <td>No</td>\n",
       "      <td>2</td>\n",
       "      <td>Yes</td>\n",
       "      <td>No</td>\n",
       "      <td>Fiber optic</td>\n",
       "      <td>No</td>\n",
       "      <td>No</td>\n",
       "      <td>No</td>\n",
       "      <td>No</td>\n",
       "      <td>No</td>\n",
       "      <td>No</td>\n",
       "      <td>Month-to-month</td>\n",
       "      <td>Yes</td>\n",
       "      <td>Electronic check</td>\n",
       "      <td>70.70</td>\n",
       "      <td>151.65</td>\n",
       "      <td>Yes</td>\n",
       "    </tr>\n",
       "    <tr>\n",
       "      <th>...</th>\n",
       "      <td>...</td>\n",
       "      <td>...</td>\n",
       "      <td>...</td>\n",
       "      <td>...</td>\n",
       "      <td>...</td>\n",
       "      <td>...</td>\n",
       "      <td>...</td>\n",
       "      <td>...</td>\n",
       "      <td>...</td>\n",
       "      <td>...</td>\n",
       "      <td>...</td>\n",
       "      <td>...</td>\n",
       "      <td>...</td>\n",
       "      <td>...</td>\n",
       "      <td>...</td>\n",
       "      <td>...</td>\n",
       "      <td>...</td>\n",
       "      <td>...</td>\n",
       "      <td>...</td>\n",
       "      <td>...</td>\n",
       "      <td>...</td>\n",
       "    </tr>\n",
       "    <tr>\n",
       "      <th>7038</th>\n",
       "      <td>6840-RESVB</td>\n",
       "      <td>Male</td>\n",
       "      <td>0</td>\n",
       "      <td>Yes</td>\n",
       "      <td>Yes</td>\n",
       "      <td>24</td>\n",
       "      <td>Yes</td>\n",
       "      <td>Yes</td>\n",
       "      <td>DSL</td>\n",
       "      <td>Yes</td>\n",
       "      <td>No</td>\n",
       "      <td>Yes</td>\n",
       "      <td>Yes</td>\n",
       "      <td>Yes</td>\n",
       "      <td>Yes</td>\n",
       "      <td>One year</td>\n",
       "      <td>Yes</td>\n",
       "      <td>Mailed check</td>\n",
       "      <td>84.80</td>\n",
       "      <td>1990.5</td>\n",
       "      <td>No</td>\n",
       "    </tr>\n",
       "    <tr>\n",
       "      <th>7039</th>\n",
       "      <td>2234-XADUH</td>\n",
       "      <td>Female</td>\n",
       "      <td>0</td>\n",
       "      <td>Yes</td>\n",
       "      <td>Yes</td>\n",
       "      <td>72</td>\n",
       "      <td>Yes</td>\n",
       "      <td>Yes</td>\n",
       "      <td>Fiber optic</td>\n",
       "      <td>No</td>\n",
       "      <td>Yes</td>\n",
       "      <td>Yes</td>\n",
       "      <td>No</td>\n",
       "      <td>Yes</td>\n",
       "      <td>Yes</td>\n",
       "      <td>One year</td>\n",
       "      <td>Yes</td>\n",
       "      <td>Credit card (automatic)</td>\n",
       "      <td>103.20</td>\n",
       "      <td>7362.9</td>\n",
       "      <td>No</td>\n",
       "    </tr>\n",
       "    <tr>\n",
       "      <th>7040</th>\n",
       "      <td>4801-JZAZL</td>\n",
       "      <td>Female</td>\n",
       "      <td>0</td>\n",
       "      <td>Yes</td>\n",
       "      <td>Yes</td>\n",
       "      <td>11</td>\n",
       "      <td>No</td>\n",
       "      <td>No phone service</td>\n",
       "      <td>DSL</td>\n",
       "      <td>Yes</td>\n",
       "      <td>No</td>\n",
       "      <td>No</td>\n",
       "      <td>No</td>\n",
       "      <td>No</td>\n",
       "      <td>No</td>\n",
       "      <td>Month-to-month</td>\n",
       "      <td>Yes</td>\n",
       "      <td>Electronic check</td>\n",
       "      <td>29.60</td>\n",
       "      <td>346.45</td>\n",
       "      <td>No</td>\n",
       "    </tr>\n",
       "    <tr>\n",
       "      <th>7041</th>\n",
       "      <td>8361-LTMKD</td>\n",
       "      <td>Male</td>\n",
       "      <td>1</td>\n",
       "      <td>Yes</td>\n",
       "      <td>No</td>\n",
       "      <td>4</td>\n",
       "      <td>Yes</td>\n",
       "      <td>Yes</td>\n",
       "      <td>Fiber optic</td>\n",
       "      <td>No</td>\n",
       "      <td>No</td>\n",
       "      <td>No</td>\n",
       "      <td>No</td>\n",
       "      <td>No</td>\n",
       "      <td>No</td>\n",
       "      <td>Month-to-month</td>\n",
       "      <td>Yes</td>\n",
       "      <td>Mailed check</td>\n",
       "      <td>74.40</td>\n",
       "      <td>306.6</td>\n",
       "      <td>Yes</td>\n",
       "    </tr>\n",
       "    <tr>\n",
       "      <th>7042</th>\n",
       "      <td>3186-AJIEK</td>\n",
       "      <td>Male</td>\n",
       "      <td>0</td>\n",
       "      <td>No</td>\n",
       "      <td>No</td>\n",
       "      <td>66</td>\n",
       "      <td>Yes</td>\n",
       "      <td>No</td>\n",
       "      <td>Fiber optic</td>\n",
       "      <td>Yes</td>\n",
       "      <td>No</td>\n",
       "      <td>Yes</td>\n",
       "      <td>Yes</td>\n",
       "      <td>Yes</td>\n",
       "      <td>Yes</td>\n",
       "      <td>Two year</td>\n",
       "      <td>Yes</td>\n",
       "      <td>Bank transfer (automatic)</td>\n",
       "      <td>105.65</td>\n",
       "      <td>6844.5</td>\n",
       "      <td>No</td>\n",
       "    </tr>\n",
       "  </tbody>\n",
       "</table>\n",
       "<p>7043 rows × 21 columns</p>\n",
       "</div>"
      ],
      "text/plain": [
       "      customerID  gender  SeniorCitizen  ... MonthlyCharges TotalCharges  Churn\n",
       "0     7590-VHVEG  Female              0  ...          29.85        29.85     No\n",
       "1     5575-GNVDE    Male              0  ...          56.95       1889.5     No\n",
       "2     3668-QPYBK    Male              0  ...          53.85       108.15    Yes\n",
       "3     7795-CFOCW    Male              0  ...          42.30      1840.75     No\n",
       "4     9237-HQITU  Female              0  ...          70.70       151.65    Yes\n",
       "...          ...     ...            ...  ...            ...          ...    ...\n",
       "7038  6840-RESVB    Male              0  ...          84.80       1990.5     No\n",
       "7039  2234-XADUH  Female              0  ...         103.20       7362.9     No\n",
       "7040  4801-JZAZL  Female              0  ...          29.60       346.45     No\n",
       "7041  8361-LTMKD    Male              1  ...          74.40        306.6    Yes\n",
       "7042  3186-AJIEK    Male              0  ...         105.65       6844.5     No\n",
       "\n",
       "[7043 rows x 21 columns]"
      ]
     },
     "metadata": {},
     "output_type": "display_data"
    }
   ],
   "source": [
    "\n",
    "infer_schema = \"True\"\n",
    "first_row_is_header = \"True\"\n",
    "delimiter = \",\"\n",
    "file_type = 'csv'\n",
    "# The applied options are for CSV files. For other file types, these will be ignored.\n",
    "df = get_spark().read.format(file_type) \\\n",
    "  .option(\"inferSchema\", infer_schema) \\\n",
    "  .option(\"header\", first_row_is_header) \\\n",
    "  .option(\"sep\", delimiter) \\\n",
    "  .load(TRAINING_FILE)\n",
    "\n",
    "display(df.toPandas())"
   ]
  },
  {
   "cell_type": "markdown",
   "id": "96e05905-40de-4529-9cea-42b55eb4e8a1",
   "metadata": {},
   "source": [
    "\n",
    "### Data Modeling and Transformation"
   ]
  },
  {
   "cell_type": "code",
   "execution_count": 10,
   "id": "44b5c6e8-2c50-4570-94f3-a88d9c641410",
   "metadata": {},
   "outputs": [],
   "source": [
    "stages = []\n",
    "categoricalColumns = ['gender','Partner','Dependents','PhoneService','MultipleLines','InternetService','OnlineSecurity','OnlineBackup','DeviceProtection',\n",
    "                     'TechSupport','StreamingTV','StreamingMovies','Contract','PaperlessBilling','PaymentMethod']\n",
    "for categoricalCol in categoricalColumns:\n",
    "    stringIndexer = StringIndexer(inputCol=categoricalCol, outputCol=categoricalCol + \"Index\")\n",
    "    stages += [stringIndexer]\n",
    "label_stringIdx = StringIndexer(inputCol = 'Churn', outputCol = 'label')\n",
    "stages += [label_stringIdx]"
   ]
  },
  {
   "cell_type": "code",
   "execution_count": 11,
   "id": "1bde2f10-08a4-4f81-bbf2-3db5549d3953",
   "metadata": {},
   "outputs": [],
   "source": [
    "numericCols = list(set(df.columns) - set(categoricalColumns) - set(['customerID','Churn','TotalCharges']))"
   ]
  },
  {
   "cell_type": "code",
   "execution_count": 12,
   "id": "80185ee0-97cb-4ee5-bea2-0162d66790cd",
   "metadata": {},
   "outputs": [],
   "source": [
    "assemblerInputs = [c + \"Index\" for c in categoricalColumns] + numericCols\n",
    "\n",
    "assembler = VectorAssembler(inputCols=assemblerInputs, outputCol=\"features\")\n",
    "\n",
    "stages += [assembler]"
   ]
  },
  {
   "cell_type": "code",
   "execution_count": 13,
   "id": "b405e5d5-f678-4738-97eb-5239451fcb4d",
   "metadata": {},
   "outputs": [
    {
     "name": "stderr",
     "output_type": "stream",
     "text": [
      "                                                                                \r"
     ]
    }
   ],
   "source": [
    "# Fitting Pipeline\n",
    "  \n",
    "partialPipeline = Pipeline().setStages(stages)\n",
    "pipelineModel = partialPipeline.fit(df)"
   ]
  },
  {
   "cell_type": "code",
   "execution_count": 14,
   "id": "16375dd0-d32f-404a-90cd-c9f193c5cfb7",
   "metadata": {},
   "outputs": [],
   "source": [
    "preppedDataDF = pipelineModel.transform(df)"
   ]
  },
  {
   "cell_type": "code",
   "execution_count": 15,
   "id": "0b1b8f6d-91cd-48dc-94e9-deb2b886000f",
   "metadata": {},
   "outputs": [
    {
     "name": "stderr",
     "output_type": "stream",
     "text": [
      "22/12/02 22:49:14 WARN package: Truncated the string representation of a plan since it was too large. This behavior can be adjusted by setting 'spark.sql.debug.maxToStringFields'.\n",
      "                                                                                \r"
     ]
    },
    {
     "data": {
      "text/html": [
       "<div>\n",
       "<style scoped>\n",
       "    .dataframe tbody tr th:only-of-type {\n",
       "        vertical-align: middle;\n",
       "    }\n",
       "\n",
       "    .dataframe tbody tr th {\n",
       "        vertical-align: top;\n",
       "    }\n",
       "\n",
       "    .dataframe thead th {\n",
       "        text-align: right;\n",
       "    }\n",
       "</style>\n",
       "<table border=\"1\" class=\"dataframe\">\n",
       "  <thead>\n",
       "    <tr style=\"text-align: right;\">\n",
       "      <th></th>\n",
       "      <th>label</th>\n",
       "      <th>features</th>\n",
       "      <th>customerID</th>\n",
       "      <th>gender</th>\n",
       "      <th>SeniorCitizen</th>\n",
       "      <th>Partner</th>\n",
       "      <th>Dependents</th>\n",
       "      <th>tenure</th>\n",
       "      <th>PhoneService</th>\n",
       "      <th>MultipleLines</th>\n",
       "      <th>InternetService</th>\n",
       "      <th>OnlineSecurity</th>\n",
       "      <th>OnlineBackup</th>\n",
       "      <th>DeviceProtection</th>\n",
       "      <th>TechSupport</th>\n",
       "      <th>StreamingTV</th>\n",
       "      <th>StreamingMovies</th>\n",
       "      <th>Contract</th>\n",
       "      <th>PaperlessBilling</th>\n",
       "      <th>PaymentMethod</th>\n",
       "      <th>MonthlyCharges</th>\n",
       "      <th>TotalCharges</th>\n",
       "      <th>Churn</th>\n",
       "    </tr>\n",
       "  </thead>\n",
       "  <tbody>\n",
       "    <tr>\n",
       "      <th>0</th>\n",
       "      <td>0.0</td>\n",
       "      <td>(1.0, 1.0, 0.0, 1.0, 2.0, 1.0, 0.0, 1.0, 0.0, ...</td>\n",
       "      <td>7590-VHVEG</td>\n",
       "      <td>Female</td>\n",
       "      <td>0</td>\n",
       "      <td>Yes</td>\n",
       "      <td>No</td>\n",
       "      <td>1</td>\n",
       "      <td>No</td>\n",
       "      <td>No phone service</td>\n",
       "      <td>DSL</td>\n",
       "      <td>No</td>\n",
       "      <td>Yes</td>\n",
       "      <td>No</td>\n",
       "      <td>No</td>\n",
       "      <td>No</td>\n",
       "      <td>No</td>\n",
       "      <td>Month-to-month</td>\n",
       "      <td>Yes</td>\n",
       "      <td>Electronic check</td>\n",
       "      <td>29.85</td>\n",
       "      <td>29.85</td>\n",
       "      <td>No</td>\n",
       "    </tr>\n",
       "    <tr>\n",
       "      <th>1</th>\n",
       "      <td>0.0</td>\n",
       "      <td>(0.0, 0.0, 0.0, 0.0, 0.0, 1.0, 1.0, 0.0, 1.0, ...</td>\n",
       "      <td>5575-GNVDE</td>\n",
       "      <td>Male</td>\n",
       "      <td>0</td>\n",
       "      <td>No</td>\n",
       "      <td>No</td>\n",
       "      <td>34</td>\n",
       "      <td>Yes</td>\n",
       "      <td>No</td>\n",
       "      <td>DSL</td>\n",
       "      <td>Yes</td>\n",
       "      <td>No</td>\n",
       "      <td>Yes</td>\n",
       "      <td>No</td>\n",
       "      <td>No</td>\n",
       "      <td>No</td>\n",
       "      <td>One year</td>\n",
       "      <td>No</td>\n",
       "      <td>Mailed check</td>\n",
       "      <td>56.95</td>\n",
       "      <td>1889.5</td>\n",
       "      <td>No</td>\n",
       "    </tr>\n",
       "    <tr>\n",
       "      <th>2</th>\n",
       "      <td>1.0</td>\n",
       "      <td>(0.0, 0.0, 0.0, 0.0, 0.0, 1.0, 1.0, 1.0, 0.0, ...</td>\n",
       "      <td>3668-QPYBK</td>\n",
       "      <td>Male</td>\n",
       "      <td>0</td>\n",
       "      <td>No</td>\n",
       "      <td>No</td>\n",
       "      <td>2</td>\n",
       "      <td>Yes</td>\n",
       "      <td>No</td>\n",
       "      <td>DSL</td>\n",
       "      <td>Yes</td>\n",
       "      <td>Yes</td>\n",
       "      <td>No</td>\n",
       "      <td>No</td>\n",
       "      <td>No</td>\n",
       "      <td>No</td>\n",
       "      <td>Month-to-month</td>\n",
       "      <td>Yes</td>\n",
       "      <td>Mailed check</td>\n",
       "      <td>53.85</td>\n",
       "      <td>108.15</td>\n",
       "      <td>Yes</td>\n",
       "    </tr>\n",
       "    <tr>\n",
       "      <th>3</th>\n",
       "      <td>0.0</td>\n",
       "      <td>[0.0, 0.0, 0.0, 1.0, 2.0, 1.0, 1.0, 0.0, 1.0, ...</td>\n",
       "      <td>7795-CFOCW</td>\n",
       "      <td>Male</td>\n",
       "      <td>0</td>\n",
       "      <td>No</td>\n",
       "      <td>No</td>\n",
       "      <td>45</td>\n",
       "      <td>No</td>\n",
       "      <td>No phone service</td>\n",
       "      <td>DSL</td>\n",
       "      <td>Yes</td>\n",
       "      <td>No</td>\n",
       "      <td>Yes</td>\n",
       "      <td>Yes</td>\n",
       "      <td>No</td>\n",
       "      <td>No</td>\n",
       "      <td>One year</td>\n",
       "      <td>No</td>\n",
       "      <td>Bank transfer (automatic)</td>\n",
       "      <td>42.30</td>\n",
       "      <td>1840.75</td>\n",
       "      <td>No</td>\n",
       "    </tr>\n",
       "    <tr>\n",
       "      <th>4</th>\n",
       "      <td>1.0</td>\n",
       "      <td>(1.0, 0.0, 0.0, 0.0, 0.0, 0.0, 0.0, 0.0, 0.0, ...</td>\n",
       "      <td>9237-HQITU</td>\n",
       "      <td>Female</td>\n",
       "      <td>0</td>\n",
       "      <td>No</td>\n",
       "      <td>No</td>\n",
       "      <td>2</td>\n",
       "      <td>Yes</td>\n",
       "      <td>No</td>\n",
       "      <td>Fiber optic</td>\n",
       "      <td>No</td>\n",
       "      <td>No</td>\n",
       "      <td>No</td>\n",
       "      <td>No</td>\n",
       "      <td>No</td>\n",
       "      <td>No</td>\n",
       "      <td>Month-to-month</td>\n",
       "      <td>Yes</td>\n",
       "      <td>Electronic check</td>\n",
       "      <td>70.70</td>\n",
       "      <td>151.65</td>\n",
       "      <td>Yes</td>\n",
       "    </tr>\n",
       "  </tbody>\n",
       "</table>\n",
       "</div>"
      ],
      "text/plain": [
       "   label                                           features  ... TotalCharges Churn\n",
       "0    0.0  (1.0, 1.0, 0.0, 1.0, 2.0, 1.0, 0.0, 1.0, 0.0, ...  ...        29.85    No\n",
       "1    0.0  (0.0, 0.0, 0.0, 0.0, 0.0, 1.0, 1.0, 0.0, 1.0, ...  ...       1889.5    No\n",
       "2    1.0  (0.0, 0.0, 0.0, 0.0, 0.0, 1.0, 1.0, 1.0, 0.0, ...  ...       108.15   Yes\n",
       "3    0.0  [0.0, 0.0, 0.0, 1.0, 2.0, 1.0, 1.0, 0.0, 1.0, ...  ...      1840.75    No\n",
       "4    1.0  (1.0, 0.0, 0.0, 0.0, 0.0, 0.0, 0.0, 0.0, 0.0, ...  ...       151.65   Yes\n",
       "\n",
       "[5 rows x 23 columns]"
      ]
     },
     "execution_count": 15,
     "metadata": {},
     "output_type": "execute_result"
    }
   ],
   "source": [
    "selectedcols = [\"label\", \"features\"] + df.columns\n",
    "dataset = preppedDataDF.select(selectedcols)\n",
    "\n",
    "dataset.toPandas().head(5)"
   ]
  },
  {
   "cell_type": "code",
   "execution_count": 16,
   "id": "3c65cec1-7a0b-4cd3-85cf-a45647ff9e5a",
   "metadata": {},
   "outputs": [
    {
     "name": "stderr",
     "output_type": "stream",
     "text": [
      "                                                                                \r"
     ]
    },
    {
     "name": "stdout",
     "output_type": "stream",
     "text": [
      "Training Dataset Count: 4978\n",
      "Test Dataset Count: 2065\n"
     ]
    }
   ],
   "source": [
    "train, test = dataset.randomSplit([0.7, 0.3], seed = 2018)\n",
    "print(\"Training Dataset Count: \" + str(train.count()))\n",
    "print(\"Test Dataset Count: \" + str(test.count()))"
   ]
  },
  {
   "cell_type": "code",
   "execution_count": 17,
   "id": "daddc753-5448-498f-b285-9600b0940d7b",
   "metadata": {
    "application/vnd.databricks.v1+cell": {
     "cellMetadata": {},
     "inputWidgets": {},
     "nuid": "c2f96deb-64e2-45ff-afbf-4553c15513aa",
     "showTitle": false,
     "title": ""
    }
   },
   "outputs": [
    {
     "name": "stderr",
     "output_type": "stream",
     "text": [
      "22/12/02 22:53:22 WARN BLAS: Failed to load implementation from: com.github.fommil.netlib.NativeSystemBLAS\n",
      "22/12/02 22:53:22 WARN BLAS: Failed to load implementation from: com.github.fommil.netlib.NativeRefBLAS\n",
      "                                                                                \r"
     ]
    }
   ],
   "source": [
    "lr = LogisticRegression(labelCol=\"label\", featuresCol=\"features\", maxIter=10)\n",
    "\n",
    "# Train model with Training Data with Logistic Regression\n",
    "lrModel = lr.fit(train)"
   ]
  },
  {
   "cell_type": "code",
   "execution_count": 18,
   "id": "4d707006-a3f6-4bd6-ab38-a20dc33dc53f",
   "metadata": {
    "application/vnd.databricks.v1+cell": {
     "cellMetadata": {},
     "inputWidgets": {},
     "nuid": "9c512f87-de47-4960-a85a-bca2ab5564dd",
     "showTitle": false,
     "title": ""
    }
   },
   "outputs": [],
   "source": [
    "rf = RandomForestClassifier(numTrees=50,labelCol=\"label\", featuresCol=\"features\")\n",
    "rfModel = rf.fit(train)"
   ]
  },
  {
   "cell_type": "code",
   "execution_count": 19,
   "id": "9059395f-eb94-495d-bccd-a3b7dafa6100",
   "metadata": {
    "application/vnd.databricks.v1+cell": {
     "cellMetadata": {},
     "inputWidgets": {},
     "nuid": "28404e3f-da2b-4ca2-8cda-27f6eb4ff5cf",
     "showTitle": false,
     "title": ""
    }
   },
   "outputs": [
    {
     "name": "stderr",
     "output_type": "stream",
     "text": [
      "                                                                                \r"
     ]
    }
   ],
   "source": [
    "nb = NaiveBayes(labelCol=\"label\", featuresCol=\"features\")\n",
    "nb_model=nb.fit(train)"
   ]
  },
  {
   "cell_type": "markdown",
   "id": "e2280251-502c-4bcd-89ef-1759a6952c76",
   "metadata": {
    "application/vnd.databricks.v1+cell": {
     "cellMetadata": {},
     "inputWidgets": {},
     "nuid": "2a2c5ea7-b357-4a9a-a4ef-41fa189d99cb",
     "showTitle": false,
     "title": ""
    }
   },
   "source": [
    "##Result Evaluation"
   ]
  },
  {
   "cell_type": "code",
   "execution_count": 20,
   "id": "0d54d95b-cf3a-4c49-87f5-d2d61818ffce",
   "metadata": {
    "application/vnd.databricks.v1+cell": {
     "cellMetadata": {},
     "inputWidgets": {},
     "nuid": "a517bbfd-d5a9-46b2-9061-96b5dbed0701",
     "showTitle": false,
     "title": ""
    }
   },
   "outputs": [
    {
     "name": "stdout",
     "output_type": "stream",
     "text": [
      "+-----+--------------------+----------+--------------------+\n",
      "|label|       rawPrediction|prediction|         probability|\n",
      "+-----+--------------------+----------+--------------------+\n",
      "|  0.0|[1.54912318396661...|       0.0|[0.82478705628038...|\n",
      "|  0.0|[0.92347404384520...|       0.0|[0.71574943694594...|\n",
      "|  0.0|[2.06177256561138...|       0.0|[0.88713177695782...|\n",
      "|  0.0|[0.38051880544234...|       0.0|[0.59399822640189...|\n",
      "|  0.0|[0.30574938941935...|       0.0|[0.57584739768481...|\n",
      "|  0.0|[0.49924862729729...|       0.0|[0.62228273958712...|\n",
      "|  0.0|[1.07518294054183...|       0.0|[0.74558131764321...|\n",
      "|  0.0|[-1.0520595510986...|       1.0|[0.25882980663795...|\n",
      "|  0.0|[2.11268182997317...|       0.0|[0.89212968882572...|\n",
      "|  0.0|[0.14222387596801...|       0.0|[0.53549615555941...|\n",
      "+-----+--------------------+----------+--------------------+\n",
      "only showing top 10 rows\n",
      "\n"
     ]
    }
   ],
   "source": [
    "lrPreds = lrModel.transform(test)\n",
    "lrPreds.select('label', 'rawPrediction', 'prediction', 'probability').show(10)"
   ]
  },
  {
   "cell_type": "code",
   "execution_count": 21,
   "id": "d0a9311c-d272-4ed2-9aca-ecdd7b4cf4b0",
   "metadata": {
    "application/vnd.databricks.v1+cell": {
     "cellMetadata": {},
     "inputWidgets": {},
     "nuid": "cef047a5-63eb-4d4b-b430-80caf0aa86fd",
     "showTitle": false,
     "title": ""
    }
   },
   "outputs": [
    {
     "name": "stdout",
     "output_type": "stream",
     "text": [
      "+-----+--------------------+----------+--------------------+\n",
      "|label|       rawPrediction|prediction|         probability|\n",
      "+-----+--------------------+----------+--------------------+\n",
      "|  0.0|[39.0009333464307...|       0.0|[0.78001866692861...|\n",
      "|  0.0|[37.2562957183603...|       0.0|[0.74512591436720...|\n",
      "|  0.0|[41.9698781833610...|       0.0|[0.83939756366722...|\n",
      "|  0.0|[34.6441051471068...|       0.0|[0.69288210294213...|\n",
      "|  0.0|[34.9681731203446...|       0.0|[0.69936346240689...|\n",
      "|  0.0|[32.3174444081074...|       0.0|[0.64634888816214...|\n",
      "|  0.0|[37.6907354062137...|       0.0|[0.75381470812427...|\n",
      "|  0.0|[18.7383938975255...|       1.0|[0.37476787795051...|\n",
      "|  0.0|[40.5275125311947...|       0.0|[0.81055025062389...|\n",
      "|  0.0|[26.8297511132017...|       0.0|[0.53659502226403...|\n",
      "+-----+--------------------+----------+--------------------+\n",
      "only showing top 10 rows\n",
      "\n"
     ]
    }
   ],
   "source": [
    "rfPreds = rfModel.transform(test)\n",
    "rfPreds.select('label', 'rawPrediction', 'prediction', 'probability').show(10)"
   ]
  },
  {
   "cell_type": "code",
   "execution_count": 22,
   "id": "e6aae78e-650e-468b-ad49-92115032ce64",
   "metadata": {
    "application/vnd.databricks.v1+cell": {
     "cellMetadata": {},
     "inputWidgets": {},
     "nuid": "38a8bbe5-05e0-4883-a21b-b6b3cd808a21",
     "showTitle": false,
     "title": ""
    }
   },
   "outputs": [
    {
     "name": "stdout",
     "output_type": "stream",
     "text": [
      "+-----+--------------------+----------+--------------------+\n",
      "|label|       rawPrediction|prediction|         probability|\n",
      "+-----+--------------------+----------+--------------------+\n",
      "|  0.0|[-103.65588462032...|       0.0|[0.99999831429466...|\n",
      "|  0.0|[-78.300011694737...|       0.0|[0.99912618195443...|\n",
      "|  0.0|[-121.80837416420...|       0.0|[0.99992038793878...|\n",
      "|  0.0|[-79.374418966913...|       1.0|[1.88782908889000...|\n",
      "|  0.0|[-78.022594070525...|       1.0|[4.44003316263294...|\n",
      "|  0.0|[-68.448027180011...|       1.0|[4.49875297839412...|\n",
      "|  0.0|[-144.38630541933...|       0.0|[0.83767837019217...|\n",
      "|  0.0|[-102.32938068158...|       1.0|[6.08629549773015...|\n",
      "|  0.0|[-169.42913613205...|       0.0|[0.99999997858692...|\n",
      "|  0.0|[-131.96571641221...|       1.0|[0.07456041711041...|\n",
      "+-----+--------------------+----------+--------------------+\n",
      "only showing top 10 rows\n",
      "\n"
     ]
    }
   ],
   "source": [
    "nbPreds = nb_model.transform(test)\n",
    "nbPreds.select('label', 'rawPrediction', 'prediction', 'probability').show(10)"
   ]
  },
  {
   "cell_type": "code",
   "execution_count": 24,
   "id": "37c5b1a3-e38f-4ef8-8ca3-403415036e7d",
   "metadata": {
    "application/vnd.databricks.v1+cell": {
     "cellMetadata": {},
     "inputWidgets": {},
     "nuid": "cf6a1b70-3dd3-4493-8884-1fa6c314efb6",
     "showTitle": false,
     "title": ""
    }
   },
   "outputs": [
    {
     "data": {
      "text/plain": [
       "DataFrame[metric: string, value: bigint]"
      ]
     },
     "metadata": {},
     "output_type": "display_data"
    }
   ],
   "source": [
    "\n",
    "\n",
    "correct = lrPreds.where(\"(label = prediction)\").count()\n",
    "incorrect = lrPreds.where(\"(label != prediction)\").count()\n",
    "\n",
    "resultDF = get_spark().createDataFrame([['correct', correct], ['incorrect', incorrect]], ['metric', 'value'])\n",
    "display(resultDF)"
   ]
  },
  {
   "cell_type": "code",
   "execution_count": 25,
   "id": "614fe2fb-025a-4a3c-b443-872140ab3ed3",
   "metadata": {
    "application/vnd.databricks.v1+cell": {
     "cellMetadata": {},
     "inputWidgets": {},
     "nuid": "bcbaf662-3714-49da-926d-1529dd7a71ee",
     "showTitle": false,
     "title": ""
    }
   },
   "outputs": [
    {
     "data": {
      "text/plain": [
       "0.837829485114253"
      ]
     },
     "execution_count": 25,
     "metadata": {},
     "output_type": "execute_result"
    }
   ],
   "source": [
    "# AUC \n",
    "evaluator = BinaryClassificationEvaluator(rawPredictionCol=\"rawPrediction\")\n",
    "evaluator.evaluate(lrPreds)"
   ]
  },
  {
   "cell_type": "code",
   "execution_count": 42,
   "id": "104d74d0-f38f-4bde-9466-2bfeb98c4bbb",
   "metadata": {},
   "outputs": [
    {
     "name": "stdout",
     "output_type": "stream",
     "text": [
      "Classification report of Logistic\n"
     ]
    },
    {
     "name": "stderr",
     "output_type": "stream",
     "text": [
      "                                                                                \r"
     ]
    },
    {
     "name": "stdout",
     "output_type": "stream",
     "text": [
      "+-----+----------+-----+\n",
      "|label|prediction|count|\n",
      "+-----+----------+-----+\n",
      "|  1.0|       1.0|  290|\n",
      "|  0.0|       1.0|  139|\n",
      "|  1.0|       0.0|  265|\n",
      "|  0.0|       0.0| 1371|\n",
      "+-----+----------+-----+\n",
      "\n",
      "n precision: 0.676\n",
      "n recall: 0.523\n",
      "n accuracy: 0.804\n",
      "n F1 score: 0.589\n"
     ]
    }
   ],
   "source": [
    "print(\"Classification report of Logistic\")\n",
    "lrPreds.groupBy('label', 'prediction').count().show()\n",
    "# Calculate the elements of the confusion matrix\n",
    "TN = lrPreds.filter('prediction = 0 AND label = prediction').count()\n",
    "TP = lrPreds.filter('prediction = 1 AND label = prediction').count()\n",
    "FN = lrPreds.filter('prediction = 0 AND label <> prediction').count()\n",
    "FP = lrPreds.filter('prediction = 1 AND label <> prediction').count()\n",
    "# calculate accuracy, precision, recall, and F1-score\n",
    "accuracy = (TN + TP) / (TN + TP + FN + FP)\n",
    "precision = TP / (TP + FP)\n",
    "recall = TP / (TP + FN)\n",
    "F =  2 * (precision*recall) / (precision + recall)\n",
    "print('n precision: %0.3f' % precision)\n",
    "print('n recall: %0.3f' % recall)\n",
    "print('n accuracy: %0.3f' % accuracy)\n",
    "print('n F1 score: %0.3f' % F)"
   ]
  },
  {
   "cell_type": "code",
   "execution_count": 26,
   "id": "e9200359-0597-4858-a260-00d5403b7c88",
   "metadata": {
    "application/vnd.databricks.v1+cell": {
     "cellMetadata": {},
     "inputWidgets": {},
     "nuid": "c9190e89-ea09-46f0-83cd-0cb0cdb2e196",
     "showTitle": false,
     "title": ""
    }
   },
   "outputs": [
    {
     "data": {
      "text/plain": [
       "DataFrame[metric: string, value: bigint]"
      ]
     },
     "metadata": {},
     "output_type": "display_data"
    }
   ],
   "source": [
    "correct = rfPreds.where(\"(label = prediction)\").count()\n",
    "incorrect = rfPreds.where(\"(label != prediction)\").count()\n",
    "\n",
    "resultDF_RF = get_spark().createDataFrame([['correct', correct], ['incorrect', incorrect]], ['metric', 'value'])\n",
    "display(resultDF_RF)"
   ]
  },
  {
   "cell_type": "code",
   "execution_count": 27,
   "id": "8b0679db-a6c9-4a81-b4d0-1beacde328c0",
   "metadata": {
    "application/vnd.databricks.v1+cell": {
     "cellMetadata": {},
     "inputWidgets": {},
     "nuid": "2c950168-bf35-4a71-b7f8-67f39fe67701",
     "showTitle": false,
     "title": ""
    }
   },
   "outputs": [
    {
     "data": {
      "text/plain": [
       "0.8420828112881107"
      ]
     },
     "execution_count": 27,
     "metadata": {},
     "output_type": "execute_result"
    }
   ],
   "source": [
    "evaluator = BinaryClassificationEvaluator(rawPredictionCol=\"rawPrediction\")\n",
    "evaluator.evaluate(rfPreds)"
   ]
  },
  {
   "cell_type": "code",
   "execution_count": 43,
   "id": "4b28ff82-9d0a-4b05-8aa9-5c4d56c81476",
   "metadata": {},
   "outputs": [
    {
     "name": "stdout",
     "output_type": "stream",
     "text": [
      "Classification report of Random Forest\n",
      "+-----+----------+-----+\n",
      "|label|prediction|count|\n",
      "+-----+----------+-----+\n",
      "|  1.0|       1.0|  216|\n",
      "|  0.0|       1.0|   92|\n",
      "|  1.0|       0.0|  339|\n",
      "|  0.0|       0.0| 1418|\n",
      "+-----+----------+-----+\n",
      "\n",
      "n precision: 0.701\n",
      "n recall: 0.389\n",
      "n accuracy: 0.791\n",
      "n F1 score: 0.501\n"
     ]
    }
   ],
   "source": [
    "print(\"Classification report of Random Forest\")\n",
    "rfPreds.groupBy('label', 'prediction').count().show()\n",
    "# Calculate the elements of the confusion matrix\n",
    "TN = rfPreds.filter('prediction = 0 AND label = prediction').count()\n",
    "TP = rfPreds.filter('prediction = 1 AND label = prediction').count()\n",
    "FN = rfPreds.filter('prediction = 0 AND label <> prediction').count()\n",
    "FP = rfPreds.filter('prediction = 1 AND label <> prediction').count()\n",
    "# calculate accuracy, precision, recall, and F1-score\n",
    "accuracy = (TN + TP) / (TN + TP + FN + FP)\n",
    "precision = TP / (TP + FP)\n",
    "recall = TP / (TP + FN)\n",
    "F =  2 * (precision*recall) / (precision + recall)\n",
    "print('n precision: %0.3f' % precision)\n",
    "print('n recall: %0.3f' % recall)\n",
    "print('n accuracy: %0.3f' % accuracy)\n",
    "print('n F1 score: %0.3f' % F)"
   ]
  },
  {
   "cell_type": "code",
   "execution_count": 28,
   "id": "a99849d7-6e33-4a5c-b82b-99773ea3bd33",
   "metadata": {
    "application/vnd.databricks.v1+cell": {
     "cellMetadata": {},
     "inputWidgets": {},
     "nuid": "aa32e5f9-f2da-4132-a59d-77d3f6691633",
     "showTitle": false,
     "title": ""
    }
   },
   "outputs": [
    {
     "data": {
      "text/plain": [
       "DataFrame[metric: string, value: bigint]"
      ]
     },
     "metadata": {},
     "output_type": "display_data"
    }
   ],
   "source": [
    "correct = nbPreds.where(\"(label = prediction)\").count()\n",
    "incorrect = nbPreds.where(\"(label != prediction)\").count()\n",
    "\n",
    "resultDF_NB = get_spark().createDataFrame([['correct', correct], ['incorrect', incorrect]], ['metric', 'value'])\n",
    "display(resultDF_NB)"
   ]
  },
  {
   "cell_type": "code",
   "execution_count": 29,
   "id": "94328420-a828-4a64-834a-35ac88330c07",
   "metadata": {
    "application/vnd.databricks.v1+cell": {
     "cellMetadata": {},
     "inputWidgets": {},
     "nuid": "13aa8407-d411-4df7-b738-bb3102e19f19",
     "showTitle": false,
     "title": ""
    }
   },
   "outputs": [
    {
     "data": {
      "text/plain": [
       "0.7852723584511644"
      ]
     },
     "execution_count": 29,
     "metadata": {},
     "output_type": "execute_result"
    }
   ],
   "source": [
    "evaluator = BinaryClassificationEvaluator(rawPredictionCol=\"rawPrediction\")\n",
    "evaluator.evaluate(nbPreds)"
   ]
  },
  {
   "cell_type": "code",
   "execution_count": 44,
   "id": "ca45a542-0d1d-4e88-98dd-bcfeeb971f48",
   "metadata": {},
   "outputs": [
    {
     "name": "stdout",
     "output_type": "stream",
     "text": [
      "Classification report of Naive Bayes\n",
      "+-----+----------+-----+\n",
      "|label|prediction|count|\n",
      "+-----+----------+-----+\n",
      "|  1.0|       1.0|  411|\n",
      "|  0.0|       1.0|  397|\n",
      "|  1.0|       0.0|  144|\n",
      "|  0.0|       0.0| 1113|\n",
      "+-----+----------+-----+\n",
      "\n",
      "n precision: 0.509\n",
      "n recall: 0.741\n",
      "n accuracy: 0.738\n",
      "n F1 score: 0.603\n"
     ]
    }
   ],
   "source": [
    "print(\"Classification report of Naive Bayes\")\n",
    "nbPreds.groupBy('label', 'prediction').count().show()\n",
    "# Calculate the elements of the confusion matrix\n",
    "TN = nbPreds.filter('prediction = 0 AND label = prediction').count()\n",
    "TP = nbPreds.filter('prediction = 1 AND label = prediction').count()\n",
    "FN = nbPreds.filter('prediction = 0 AND label <> prediction').count()\n",
    "FP = nbPreds.filter('prediction = 1 AND label <> prediction').count()\n",
    "# calculate accuracy, precision, recall, and F1-score\n",
    "accuracy = (TN + TP) / (TN + TP + FN + FP)\n",
    "precision = TP / (TP + FP)\n",
    "recall = TP / (TP + FN)\n",
    "F =  2 * (precision*recall) / (precision + recall)\n",
    "print('n precision: %0.3f' % precision)\n",
    "print('n recall: %0.3f' % recall)\n",
    "print('n accuracy: %0.3f' % accuracy)\n",
    "print('n F1 score: %0.3f' % F)"
   ]
  },
  {
   "cell_type": "markdown",
   "id": "7326753e-ed3e-4b69-94eb-7fb9806e21b5",
   "metadata": {
    "application/vnd.databricks.v1+cell": {
     "cellMetadata": {},
     "inputWidgets": {},
     "nuid": "3bcf79ad-e583-46fb-8077-1487639c30f8",
     "showTitle": false,
     "title": ""
    }
   },
   "source": [
    "##Cross Validation"
   ]
  },
  {
   "cell_type": "code",
   "execution_count": 30,
   "id": "75f690ff-b939-4177-8262-df11a9b1f4cc",
   "metadata": {
    "application/vnd.databricks.v1+cell": {
     "cellMetadata": {},
     "inputWidgets": {},
     "nuid": "a03ed5d7-7f9c-428c-8ee1-d96d75c3e3f4",
     "showTitle": false,
     "title": ""
    }
   },
   "outputs": [],
   "source": [
    "\n",
    "# Create ParamGrid for Cross Validation\n",
    "paramGrid = (ParamGridBuilder()\n",
    "             .addGrid(lr.regParam, [0.01, 0.5, 2.0])\n",
    "             .addGrid(lr.elasticNetParam, [0.0, 0.5, 1.0])\n",
    "             .addGrid(lr.maxIter, [1, 5, 10])\n",
    "             .build())"
   ]
  },
  {
   "cell_type": "code",
   "execution_count": 31,
   "id": "fa01f38d-2bbf-4f93-93fa-3f2bdcccbc55",
   "metadata": {
    "application/vnd.databricks.v1+cell": {
     "cellMetadata": {},
     "inputWidgets": {},
     "nuid": "48597b35-ef47-4051-815b-ab181524c92c",
     "showTitle": false,
     "title": ""
    }
   },
   "outputs": [
    {
     "name": "stderr",
     "output_type": "stream",
     "text": [
      "                                                                                \r"
     ]
    }
   ],
   "source": [
    "# Running with Cross validation\n",
    "cv = CrossValidator(estimator=lr, estimatorParamMaps=paramGrid, evaluator=evaluator, numFolds=5)\n",
    "\n",
    "# Run cross validations\n",
    "cvModel = cv.fit(train)"
   ]
  },
  {
   "cell_type": "code",
   "execution_count": 32,
   "id": "78dbd25b-5ee6-4040-8fb5-aed587dd999b",
   "metadata": {
    "application/vnd.databricks.v1+cell": {
     "cellMetadata": {},
     "inputWidgets": {},
     "nuid": "1e54e233-6edc-4886-bb84-ddfa184fc108",
     "showTitle": false,
     "title": ""
    }
   },
   "outputs": [],
   "source": [
    "predictions = cvModel.transform(test)"
   ]
  },
  {
   "cell_type": "code",
   "execution_count": 33,
   "id": "a6fff31a-5d45-40f8-8037-c82d0d5c0f4d",
   "metadata": {
    "application/vnd.databricks.v1+cell": {
     "cellMetadata": {},
     "inputWidgets": {},
     "nuid": "8141adb5-5194-4a84-bab1-41dfe1aca3cd",
     "showTitle": false,
     "title": ""
    }
   },
   "outputs": [
    {
     "data": {
      "text/plain": [
       "DataFrame[metric: string, value: bigint]"
      ]
     },
     "metadata": {},
     "output_type": "display_data"
    }
   ],
   "source": [
    "correct = predictions.where(\"(label = prediction)\").count()\n",
    "incorrect = predictions.where(\"(label != prediction)\").count()\n",
    "\n",
    "resultDF_cv = get_spark().createDataFrame([['correct', correct], ['incorrect', incorrect]], ['metric', 'value'])\n",
    "display(resultDF_cv)"
   ]
  },
  {
   "cell_type": "code",
   "execution_count": 34,
   "id": "9a0334a8-4f4f-47f6-b676-ea03609af538",
   "metadata": {
    "application/vnd.databricks.v1+cell": {
     "cellMetadata": {},
     "inputWidgets": {},
     "nuid": "47039293-e4f0-4e23-bbd0-1e854bd6381d",
     "showTitle": false,
     "title": ""
    }
   },
   "outputs": [
    {
     "data": {
      "text/plain": [
       "0.8393037408269177"
      ]
     },
     "execution_count": 34,
     "metadata": {},
     "output_type": "execute_result"
    }
   ],
   "source": [
    "evaluator.evaluate(predictions)"
   ]
  },
  {
   "cell_type": "code",
   "execution_count": 45,
   "id": "21ae7a8a-985a-4bfb-bac5-dcd66304eaeb",
   "metadata": {},
   "outputs": [
    {
     "name": "stdout",
     "output_type": "stream",
     "text": [
      "Classification report of Logistic with CV\n",
      "+-----+----------+-----+\n",
      "|label|prediction|count|\n",
      "+-----+----------+-----+\n",
      "|  1.0|       1.0|  280|\n",
      "|  0.0|       1.0|  128|\n",
      "|  1.0|       0.0|  275|\n",
      "|  0.0|       0.0| 1382|\n",
      "+-----+----------+-----+\n",
      "\n",
      "n precision: 0.686\n",
      "n recall: 0.505\n",
      "n accuracy: 0.805\n",
      "n F1 score: 0.582\n"
     ]
    }
   ],
   "source": [
    "print(\"Classification report of Logistic with CV\")\n",
    "predictions.groupBy('label', 'prediction').count().show()\n",
    "# Calculate the elements of the confusion matrix\n",
    "TN = predictions.filter('prediction = 0 AND label = prediction').count()\n",
    "TP = predictions.filter('prediction = 1 AND label = prediction').count()\n",
    "FN = predictions.filter('prediction = 0 AND label <> prediction').count()\n",
    "FP = predictions.filter('prediction = 1 AND label <> prediction').count()\n",
    "# calculate accuracy, precision, recall, and F1-score\n",
    "accuracy = (TN + TP) / (TN + TP + FN + FP)\n",
    "precision = TP / (TP + FP)\n",
    "recall = TP / (TP + FN)\n",
    "F =  2 * (precision*recall) / (precision + recall)\n",
    "print('n precision: %0.3f' % precision)\n",
    "print('n recall: %0.3f' % recall)\n",
    "print('n accuracy: %0.3f' % accuracy)\n",
    "print('n F1 score: %0.3f' % F)"
   ]
  },
  {
   "cell_type": "code",
   "execution_count": 35,
   "id": "ac91d46e-e915-4ffc-8a95-55d60eb45cb6",
   "metadata": {
    "application/vnd.databricks.v1+cell": {
     "cellMetadata": {},
     "inputWidgets": {},
     "nuid": "3b72e2dc-cf05-4f7a-87b0-739ad642c884",
     "showTitle": false,
     "title": ""
    }
   },
   "outputs": [],
   "source": [
    "paramGrid_RF = (ParamGridBuilder()\n",
    "             .addGrid(rf.maxDepth, [5, 10, 15])\n",
    "             .build())\n"
   ]
  },
  {
   "cell_type": "code",
   "execution_count": 36,
   "id": "5bf0a286-ce3d-4064-8a88-06dba34bfa29",
   "metadata": {
    "application/vnd.databricks.v1+cell": {
     "cellMetadata": {},
     "inputWidgets": {},
     "nuid": "3bd57a44-2bee-4cc0-a874-02048746dbf4",
     "showTitle": false,
     "title": ""
    }
   },
   "outputs": [
    {
     "name": "stderr",
     "output_type": "stream",
     "text": [
      "22/12/02 22:56:25 WARN DAGScheduler: Broadcasting large task binary with size 1039.5 KiB\n",
      "22/12/02 22:56:25 WARN DAGScheduler: Broadcasting large task binary with size 1706.7 KiB\n",
      "22/12/02 22:56:25 WARN DAGScheduler: Broadcasting large task binary with size 2.6 MiB\n",
      "22/12/02 22:56:26 WARN DAGScheduler: Broadcasting large task binary with size 3.7 MiB\n",
      "22/12/02 22:56:27 WARN DAGScheduler: Broadcasting large task binary with size 2.5 MiB\n",
      "22/12/02 22:56:29 WARN DAGScheduler: Broadcasting large task binary with size 1039.5 KiB\n",
      "22/12/02 22:56:29 WARN DAGScheduler: Broadcasting large task binary with size 1706.7 KiB\n",
      "22/12/02 22:56:30 WARN DAGScheduler: Broadcasting large task binary with size 2.6 MiB\n",
      "22/12/02 22:56:31 WARN DAGScheduler: Broadcasting large task binary with size 3.7 MiB\n",
      "22/12/02 22:56:32 WARN DAGScheduler: Broadcasting large task binary with size 4.9 MiB\n",
      "22/12/02 22:56:33 WARN DAGScheduler: Broadcasting large task binary with size 6.0 MiB\n",
      "22/12/02 22:56:34 WARN DAGScheduler: Broadcasting large task binary with size 7.0 MiB\n",
      "22/12/02 22:56:35 WARN DAGScheduler: Broadcasting large task binary with size 7.7 MiB\n",
      "22/12/02 22:56:35 WARN DAGScheduler: Broadcasting large task binary with size 8.2 MiB\n",
      "22/12/02 22:56:37 WARN DAGScheduler: Broadcasting large task binary with size 5.1 MiB\n",
      "22/12/02 22:56:41 WARN DAGScheduler: Broadcasting large task binary with size 1025.7 KiB\n",
      "22/12/02 22:56:42 WARN DAGScheduler: Broadcasting large task binary with size 1672.7 KiB\n",
      "22/12/02 22:56:43 WARN DAGScheduler: Broadcasting large task binary with size 2.5 MiB\n",
      "22/12/02 22:56:44 WARN DAGScheduler: Broadcasting large task binary with size 3.6 MiB\n",
      "22/12/02 22:56:45 WARN DAGScheduler: Broadcasting large task binary with size 2.4 MiB\n",
      "22/12/02 22:56:47 WARN DAGScheduler: Broadcasting large task binary with size 1025.7 KiB\n",
      "22/12/02 22:56:48 WARN DAGScheduler: Broadcasting large task binary with size 1672.7 KiB\n",
      "22/12/02 22:56:48 WARN DAGScheduler: Broadcasting large task binary with size 2.5 MiB\n",
      "22/12/02 22:56:49 WARN DAGScheduler: Broadcasting large task binary with size 3.6 MiB\n",
      "22/12/02 22:56:50 WARN DAGScheduler: Broadcasting large task binary with size 4.8 MiB\n",
      "22/12/02 22:56:52 WARN DAGScheduler: Broadcasting large task binary with size 5.9 MiB\n",
      "22/12/02 22:56:53 WARN DAGScheduler: Broadcasting large task binary with size 6.9 MiB\n",
      "22/12/02 22:56:54 WARN DAGScheduler: Broadcasting large task binary with size 7.6 MiB\n",
      "22/12/02 22:56:55 WARN DAGScheduler: Broadcasting large task binary with size 8.2 MiB\n",
      "22/12/02 22:56:57 WARN DAGScheduler: Broadcasting large task binary with size 5.0 MiB\n",
      "22/12/02 22:57:00 WARN DAGScheduler: Broadcasting large task binary with size 1027.2 KiB\n",
      "22/12/02 22:57:01 WARN DAGScheduler: Broadcasting large task binary with size 1676.5 KiB\n",
      "22/12/02 22:57:02 WARN DAGScheduler: Broadcasting large task binary with size 2.5 MiB\n",
      "22/12/02 22:57:02 WARN DAGScheduler: Broadcasting large task binary with size 3.6 MiB\n",
      "22/12/02 22:57:03 WARN DAGScheduler: Broadcasting large task binary with size 2.4 MiB\n",
      "22/12/02 22:57:05 WARN DAGScheduler: Broadcasting large task binary with size 1027.2 KiB\n",
      "22/12/02 22:57:05 WARN DAGScheduler: Broadcasting large task binary with size 1676.5 KiB\n",
      "22/12/02 22:57:06 WARN DAGScheduler: Broadcasting large task binary with size 2.5 MiB\n",
      "22/12/02 22:57:06 WARN DAGScheduler: Broadcasting large task binary with size 3.6 MiB\n",
      "22/12/02 22:57:07 WARN DAGScheduler: Broadcasting large task binary with size 4.8 MiB\n",
      "22/12/02 22:57:08 WARN DAGScheduler: Broadcasting large task binary with size 5.9 MiB\n",
      "22/12/02 22:57:09 WARN DAGScheduler: Broadcasting large task binary with size 6.9 MiB\n",
      "22/12/02 22:57:10 WARN DAGScheduler: Broadcasting large task binary with size 7.6 MiB\n",
      "22/12/02 22:57:10 WARN DAGScheduler: Broadcasting large task binary with size 8.2 MiB\n",
      "22/12/02 22:57:12 WARN DAGScheduler: Broadcasting large task binary with size 5.0 MiB\n",
      "22/12/02 22:57:15 WARN DAGScheduler: Broadcasting large task binary with size 1035.5 KiB\n",
      "22/12/02 22:57:16 WARN DAGScheduler: Broadcasting large task binary with size 1699.5 KiB\n",
      "22/12/02 22:57:17 WARN DAGScheduler: Broadcasting large task binary with size 2.6 MiB\n",
      "22/12/02 22:57:17 WARN DAGScheduler: Broadcasting large task binary with size 3.7 MiB\n",
      "22/12/02 22:57:18 WARN DAGScheduler: Broadcasting large task binary with size 2.5 MiB\n",
      "22/12/02 22:57:20 WARN DAGScheduler: Broadcasting large task binary with size 1035.5 KiB\n",
      "22/12/02 22:57:20 WARN DAGScheduler: Broadcasting large task binary with size 1699.5 KiB\n",
      "22/12/02 22:57:21 WARN DAGScheduler: Broadcasting large task binary with size 2.6 MiB\n",
      "22/12/02 22:57:21 WARN DAGScheduler: Broadcasting large task binary with size 3.7 MiB\n",
      "22/12/02 22:57:22 WARN DAGScheduler: Broadcasting large task binary with size 4.9 MiB\n",
      "22/12/02 22:57:23 WARN DAGScheduler: Broadcasting large task binary with size 6.0 MiB\n",
      "22/12/02 22:57:24 WARN DAGScheduler: Broadcasting large task binary with size 7.0 MiB\n",
      "22/12/02 22:57:25 WARN DAGScheduler: Broadcasting large task binary with size 7.8 MiB\n",
      "22/12/02 22:57:26 WARN DAGScheduler: Broadcasting large task binary with size 8.3 MiB\n",
      "22/12/02 22:57:27 WARN DAGScheduler: Broadcasting large task binary with size 5.1 MiB\n",
      "22/12/02 22:57:31 WARN DAGScheduler: Broadcasting large task binary with size 1036.7 KiB\n",
      "22/12/02 22:57:32 WARN DAGScheduler: Broadcasting large task binary with size 1702.2 KiB\n",
      "22/12/02 22:57:32 WARN DAGScheduler: Broadcasting large task binary with size 2.5 MiB\n",
      "22/12/02 22:57:33 WARN DAGScheduler: Broadcasting large task binary with size 3.6 MiB\n",
      "22/12/02 22:57:34 WARN DAGScheduler: Broadcasting large task binary with size 2.4 MiB\n",
      "22/12/02 22:57:36 WARN DAGScheduler: Broadcasting large task binary with size 1036.7 KiB\n",
      "22/12/02 22:57:36 WARN DAGScheduler: Broadcasting large task binary with size 1702.2 KiB\n",
      "22/12/02 22:57:37 WARN DAGScheduler: Broadcasting large task binary with size 2.5 MiB\n",
      "22/12/02 22:57:37 WARN DAGScheduler: Broadcasting large task binary with size 3.6 MiB\n",
      "22/12/02 22:57:38 WARN DAGScheduler: Broadcasting large task binary with size 4.8 MiB\n",
      "22/12/02 22:57:39 WARN DAGScheduler: Broadcasting large task binary with size 5.9 MiB\n",
      "22/12/02 22:57:40 WARN DAGScheduler: Broadcasting large task binary with size 6.9 MiB\n",
      "22/12/02 22:57:41 WARN DAGScheduler: Broadcasting large task binary with size 7.6 MiB\n",
      "22/12/02 22:57:42 WARN DAGScheduler: Broadcasting large task binary with size 8.1 MiB\n",
      "22/12/02 22:57:43 WARN DAGScheduler: Broadcasting large task binary with size 5.0 MiB\n"
     ]
    }
   ],
   "source": [
    "cv_rf = CrossValidator(estimator=rf, estimatorParamMaps=paramGrid_RF, evaluator=evaluator, numFolds=5)\n",
    "\n",
    "# Run cross validations\n",
    "cvModel_rf = cv_rf.fit(train)"
   ]
  },
  {
   "cell_type": "code",
   "execution_count": 37,
   "id": "a38fb744-a1ee-4bfb-9139-b6da9278520f",
   "metadata": {
    "application/vnd.databricks.v1+cell": {
     "cellMetadata": {},
     "inputWidgets": {},
     "nuid": "9a877e32-2c2f-4da3-abb2-593b0339dffe",
     "showTitle": false,
     "title": ""
    }
   },
   "outputs": [],
   "source": [
    "predictions_rf = cvModel_rf.transform(test)\n"
   ]
  },
  {
   "cell_type": "code",
   "execution_count": 38,
   "id": "09e05250-0042-4bef-8da4-f371f550b0b5",
   "metadata": {
    "application/vnd.databricks.v1+cell": {
     "cellMetadata": {},
     "inputWidgets": {},
     "nuid": "1920e88c-194f-479d-881c-0d9f8a59c7b8",
     "showTitle": false,
     "title": ""
    }
   },
   "outputs": [
    {
     "data": {
      "text/plain": [
       "DataFrame[metric: string, value: bigint]"
      ]
     },
     "metadata": {},
     "output_type": "display_data"
    }
   ],
   "source": [
    "correct = predictions_rf.where(\"(label = prediction)\").count()\n",
    "incorrect = predictions_rf.where(\"(label != prediction)\").count()\n",
    "\n",
    "resultDF_cv = get_spark().createDataFrame([['correct', correct], ['incorrect', incorrect]], ['metric', 'value'])\n",
    "display(resultDF_cv)"
   ]
  },
  {
   "cell_type": "code",
   "execution_count": 39,
   "id": "855a048a-cd4e-46b0-8e04-712b7351b1c0",
   "metadata": {
    "application/vnd.databricks.v1+cell": {
     "cellMetadata": {},
     "inputWidgets": {},
     "nuid": "c6f83698-4710-49c9-9ff4-dbbc91fe1e19",
     "showTitle": false,
     "title": ""
    }
   },
   "outputs": [
    {
     "data": {
      "text/plain": [
       "0.8420828112881107"
      ]
     },
     "execution_count": 39,
     "metadata": {},
     "output_type": "execute_result"
    }
   ],
   "source": [
    "evaluator.evaluate(predictions_rf)"
   ]
  },
  {
   "cell_type": "code",
   "execution_count": 46,
   "id": "3134bb24-b958-4825-a332-5a07fe581733",
   "metadata": {},
   "outputs": [
    {
     "name": "stdout",
     "output_type": "stream",
     "text": [
      "Classification report of Random Forest with CV\n",
      "+-----+----------+-----+\n",
      "|label|prediction|count|\n",
      "+-----+----------+-----+\n",
      "|  1.0|       1.0|  216|\n",
      "|  0.0|       1.0|   92|\n",
      "|  1.0|       0.0|  339|\n",
      "|  0.0|       0.0| 1418|\n",
      "+-----+----------+-----+\n",
      "\n",
      "n precision: 0.701\n",
      "n recall: 0.389\n",
      "n accuracy: 0.791\n",
      "n F1 score: 0.501\n"
     ]
    }
   ],
   "source": [
    "print(\"Classification report of Random Forest with CV\")\n",
    "predictions_rf.groupBy('label', 'prediction').count().show()\n",
    "# Calculate the elements of the confusion matrix\n",
    "TN = predictions_rf.filter('prediction = 0 AND label = prediction').count()\n",
    "TP = predictions_rf.filter('prediction = 1 AND label = prediction').count()\n",
    "FN = predictions_rf.filter('prediction = 0 AND label <> prediction').count()\n",
    "FP = predictions_rf.filter('prediction = 1 AND label <> prediction').count()\n",
    "# calculate accuracy, precision, recall, and F1-score\n",
    "accuracy = (TN + TP) / (TN + TP + FN + FP)\n",
    "precision = TP / (TP + FP)\n",
    "recall = TP / (TP + FN)\n",
    "F =  2 * (precision*recall) / (precision + recall)\n",
    "print('n precision: %0.3f' % precision)\n",
    "print('n recall: %0.3f' % recall)\n",
    "print('n accuracy: %0.3f' % accuracy)\n",
    "print('n F1 score: %0.3f' % F)"
   ]
  },
  {
   "cell_type": "code",
   "execution_count": 47,
   "id": "2e3d0163-2c6d-400f-b7a1-c1f3eedf12f2",
   "metadata": {},
   "outputs": [],
   "source": [
    "class CurveMetrics(BinaryClassificationMetrics):\n",
    "    def __init__(self, *args):\n",
    "        super(CurveMetrics, self).__init__(*args)\n",
    "\n",
    "    def _to_list(self, rdd):\n",
    "        points = []\n",
    "        # Note this collect could be inefficient for large datasets \n",
    "        # considering there may be one probability per datapoint (at most)\n",
    "        # The Scala version takes a numBins parameter, \n",
    "        # but it doesn't seem possible to pass this from Python to Java\n",
    "        for row in rdd.collect():\n",
    "            # Results are returned as type scala.Tuple2, \n",
    "            # which doesn't appear to have a py4j mapping\n",
    "            points += [(float(row._1()), float(row._2()))]\n",
    "        return points\n",
    "\n",
    "    def get_curve(self, method):\n",
    "        rdd = getattr(self._java_model, method)().toJavaRDD()\n",
    "        return self._to_list(rdd)"
   ]
  },
  {
   "cell_type": "code",
   "execution_count": 50,
   "id": "9301b6f9-d56c-41ce-b1c7-db31faa6e83d",
   "metadata": {},
   "outputs": [
    {
     "name": "stderr",
     "output_type": "stream",
     "text": [
      "                                                                                \r"
     ]
    },
    {
     "data": {
      "text/plain": [
       "[<matplotlib.lines.Line2D at 0x7faa6baa1700>]"
      ]
     },
     "execution_count": 50,
     "metadata": {},
     "output_type": "execute_result"
    },
    {
     "data": {
      "image/png": "[encoded data removed]",
      "text/plain": [
       "<Figure size 432x288 with 1 Axes>"
      ]
     },
     "metadata": {
      "needs_background": "light"
     },
     "output_type": "display_data"
    }
   ],
   "source": [
    "import matplotlib.pyplot as plt\n",
    "preds = predictions_rf.select('label','probability').rdd.map(lambda row: (float(row['probability'][1]), float(row['label'])))\n",
    "points = CurveMetrics(preds).get_curve('roc')\n",
    "\n",
    "plt.figure()\n",
    "x_val = [x[0] for x in points]\n",
    "y_val = [x[1] for x in points]\n",
    "plt.title(\"roc for rf with cv\")\n",
    "plt.xlabel('fpr')\n",
    "plt.ylabel('tpr')\n",
    "plt.plot(x_val, y_val)"
   ]
  },
  {
   "cell_type": "code",
   "execution_count": 52,
   "id": "49451c7c-8090-4652-be7f-15e9e1e2abdd",
   "metadata": {},
   "outputs": [
    {
     "data": {
      "text/plain": [
       "[<matplotlib.lines.Line2D at 0x7faa6c272d30>]"
      ]
     },
     "execution_count": 52,
     "metadata": {},
     "output_type": "execute_result"
    },
    {
     "data": {
      "image/png": "[encoded data removed]",
      "text/plain": [
       "<Figure size 432x288 with 1 Axes>"
      ]
     },
     "metadata": {
      "needs_background": "light"
     },
     "output_type": "display_data"
    }
   ],
   "source": [
    "preds = predictions.select('label','probability').rdd.map(lambda row: (float(row['probability'][1]), float(row['label'])))\n",
    "points = CurveMetrics(preds).get_curve('roc')\n",
    "\n",
    "plt.figure()\n",
    "x_val = [x[0] for x in points]\n",
    "y_val = [x[1] for x in points]\n",
    "plt.title(\"roc for lr with cv\")\n",
    "plt.xlabel('fpr')\n",
    "plt.ylabel('tpr')\n",
    "plt.plot(x_val, y_val)"
   ]
  },
  {
   "cell_type": "code",
   "execution_count": 56,
   "id": "a057583e-f480-4dc0-b867-eda50564b952",
   "metadata": {},
   "outputs": [],
   "source": [
    "lrModel.save('../models/logistic_regression')"
   ]
  },
  {
   "cell_type": "code",
   "execution_count": null,
   "id": "f3e6d057-d664-4145-9b5b-d36ebaa267a5",
   "metadata": {},
   "outputs": [],
   "source": []
  }
 ],
 "metadata": {
  "kernelspec": {
   "display_name": "Python 3 (ipykernel)",
   "language": "python",
   "name": "python3"
  },
  "language_info": {
   "codemirror_mode": {
    "name": "ipython",
    "version": 3
   },
   "file_extension": ".py",
   "mimetype": "text/x-python",
   "name": "python",
   "nbconvert_exporter": "python",
   "pygments_lexer": "ipython3",
   "version": "3.9.7"
  }
 },
 "nbformat": 4,
 "nbformat_minor": 5
}
